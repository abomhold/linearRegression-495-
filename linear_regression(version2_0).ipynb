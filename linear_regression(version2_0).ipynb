{
  "nbformat": 4,
  "nbformat_minor": 0,
  "metadata": {
    "colab": {
      "provenance": [],
      "authorship_tag": "ABX9TyMcpE5ZayuDqWLAZ9K6TCHE",
      "include_colab_link": true
    },
    "kernelspec": {
      "name": "python3",
      "display_name": "Python 3"
    },
    "language_info": {
      "name": "python"
    }
  },
  "cells": [
    {
      "cell_type": "markdown",
      "metadata": {
        "id": "view-in-github",
        "colab_type": "text"
      },
      "source": [
        "<a href=\"https://colab.research.google.com/github/yajuna/linearRegression/blob/master/linear_regression(version2_0).ipynb\" target=\"_parent\"><img src=\"https://colab.research.google.com/assets/colab-badge.svg\" alt=\"Open In Colab\"/></a>"
      ]
    },
    {
      "cell_type": "markdown",
      "source": [
        "# In this notebook, we play with measured weather data and measured tree temperature, and try to fit a simple linear regression model. We will Oct 21 data for training the model, and Oct 22 to test the model.\n",
        "As these two days are close, they will probably have similar weather conditions; next step is to find dates that are far apart from Oct 21, and predict the temperature from different weather condtions.\n",
        "\n"
      ],
      "metadata": {
        "id": "X1fyqsnXm8gO"
      }
    },
    {
      "cell_type": "code",
      "source": [
        "!git clone https://github.com/yajuna/linearRegression --recursive"
      ],
      "metadata": {
        "colab": {
          "base_uri": "https://localhost:8080/"
        },
        "id": "fUfuXkujmqGX",
        "outputId": "724d1dcb-02bf-4e7f-b18d-06e5e1d403df"
      },
      "execution_count": 15,
      "outputs": [
        {
          "output_type": "stream",
          "name": "stdout",
          "text": [
            "fatal: destination path 'linearRegression' already exists and is not an empty directory.\n"
          ]
        }
      ]
    },
    {
      "cell_type": "code",
      "execution_count": 16,
      "metadata": {
        "colab": {
          "base_uri": "https://localhost:8080/"
        },
        "id": "6VyVwEJpm26d",
        "outputId": "120c68b4-8efc-4f28-e3bd-fcd9e9058f94"
      },
      "outputs": [
        {
          "output_type": "stream",
          "name": "stdout",
          "text": [
            "Python 3 version is 3.10.12 (main, Jun  7 2023, 12:45:35) [GCC 9.4.0]\n",
            "Matplotlib version is 3.7.1\n",
            "Numpy version is 1.22.4\n",
            "Scipy version is 1.10.1\n"
          ]
        }
      ],
      "source": [
        "import numpy as np\n",
        "import pandas\n",
        "# import random\n",
        "# from scipy import sparse\n",
        "from matplotlib import pyplot as plt\n",
        "# from mpl_toolkits.mplot3d import Axes3D\n",
        "%matplotlib inline\n",
        "\n",
        "import sys\n",
        "print(\"Python 3 version is\", sys.version)\n",
        "import matplotlib\n",
        "print(\"Matplotlib version is\", matplotlib.__version__)\n",
        "print(\"Numpy version is\", np.__version__)\n",
        "import scipy\n",
        "\n",
        "print(\"Scipy version is\", scipy.__version__)"
      ]
    },
    {
      "cell_type": "code",
      "source": [
        "import seaborn as sns\n",
        "from sklearn.model_selection import train_test_split\n",
        "from sklearn.linear_model import LinearRegression\n",
        "from sklearn.metrics import mean_squared_error, mean_absolute_error\n",
        "from sklearn import preprocessing"
      ],
      "metadata": {
        "id": "wKlvD5I0cMOR"
      },
      "execution_count": 17,
      "outputs": []
    },
    {
      "cell_type": "markdown",
      "source": [
        "Define parameters for linear interpolation of temperature and weather data"
      ],
      "metadata": {
        "id": "8xY_JzQJn8Ux"
      }
    },
    {
      "cell_type": "code",
      "source": [
        "# define parameter\n",
        "n_t = 4000\n",
        "n_x = 2000\n",
        "radius = 0.135 # unit m\n",
        "time = np.linspace(0, 24, n_t, endpoint = False)"
      ],
      "metadata": {
        "id": "uHcZ2orbn7Wz"
      },
      "execution_count": 18,
      "outputs": []
    },
    {
      "cell_type": "markdown",
      "source": [
        "## Use data from Oct 21 for training.\n",
        "From tree temperature data, read core and bark temperature as indepedent variables $X$; read mid_temp1 (at depth 9cm) and mid_temp2 (at depth 4.5cm) as dependent variables $Y$.\n",
        "From weather data, read wind_speed, wind_direction, humidity, temperature, air_pressure, solar_DNI. wind direction is unlikely to have a linear relation to the temperature, so we delete it from independent variables."
      ],
      "metadata": {
        "id": "MRhmk5KhoJEJ"
      }
    },
    {
      "cell_type": "code",
      "source": [
        "train_tree_temp_index = 416 - 2\n",
        "train_weather_index = 145 - 2\n",
        "\n",
        "test_tree_temp_index = 827 - 2\n",
        "test_weather_index = 289 -2\n",
        "\n",
        "train_interp_temp_size = train_tree_temp_index\n",
        "train_interp_weather_size = train_weather_index\n",
        "\n",
        "test_interp_temp_size = test_tree_temp_index - train_tree_temp_index\n",
        "test_interp_weather_size = test_weather_index - train_weather_index"
      ],
      "metadata": {
        "id": "37gR9X4boord"
      },
      "execution_count": 19,
      "outputs": []
    },
    {
      "cell_type": "code",
      "source": [
        "colnames = ['datetime', 's45_1', 'e9_1', 'n135_1','e45_2', 'n9_2', 'w135_2', 'n45_3', 'w9_3','s135_3', 'w_ext_35']\n",
        "url1 = \"https://raw.githubusercontent.com/yajuna/linearRegression/master/Tree_Temp_Values_OCT21_to_OCT28_2022.xlsx\"\n",
        "dataTemp = pandas.read_excel(url1,names=colnames)\n",
        "# dataTemp = pandas.read_excel('Tree_Temp_Values_OCT21_to_OCT28_2022.xlsx', names=colnames)\n",
        "\n",
        "# training data processing- measured temp of tree at various depths\n",
        "\n",
        "# core temp is west, at 13.5cm, at 2m high\n",
        "train_coreTemp = np.array(dataTemp.s135_3[:train_tree_temp_index])+ 273.15\n",
        "# West, at 9cm, at 3m high\n",
        "train_midTemp1 = np.array(dataTemp.w9_3[:train_tree_temp_index])+ 273.15\n",
        "# North, at 4.5cm, at 3m high\n",
        "train_midTemp2 = np.array(dataTemp.n45_3[:train_tree_temp_index])+ 273.15\n",
        "# bark temp is West, at bark, at 3.5m high\n",
        "train_barkTemp = np.array(dataTemp.w_ext_35[:train_tree_temp_index])+ 273.15\n",
        "\n",
        "# linear interpolate the measured temperature\n",
        "train_coreTemp = np. interp(time, np.linspace(0,24,train_interp_temp_size),train_coreTemp)\n",
        "train_midTemp1 = np. interp(time, np.linspace(0,24,train_interp_temp_size),train_midTemp1)\n",
        "train_midTemp2 = np. interp(time, np.linspace(0,24,train_interp_temp_size),train_midTemp2)\n",
        "train_barkTemp = np. interp(time, np.linspace(0,24,train_interp_temp_size),train_barkTemp)\n",
        "\n",
        "# testing data processing- measured temp of tree at various depths\n",
        "\n",
        "# core temp is west, at 13.5cm, at 2m high\n",
        "test_coreTemp = np.array(dataTemp.s135_3[train_tree_temp_index: test_tree_temp_index])+ 273.15\n",
        "# West, at 9cm, at 3m high\n",
        "test_midTemp1 = np.array(dataTemp.w9_3[train_tree_temp_index: test_tree_temp_index])+ 273.15\n",
        "# North, at 4.5cm, at 3m high\n",
        "test_midTemp2 = np.array(dataTemp.n45_3[train_tree_temp_index: test_tree_temp_index])+ 273.15\n",
        "# bark temp is West, at bark, at 3.5m high\n",
        "test_barkTemp = np.array(dataTemp.w_ext_35[train_tree_temp_index: test_tree_temp_index])+ 273.15\n",
        "\n",
        "# linear interpolate the measured temperature\n",
        "test_coreTemp = np. interp(time, np.linspace(0,24,test_interp_temp_size),test_coreTemp)\n",
        "test_midTemp1 = np. interp(time, np.linspace(0,24,test_interp_temp_size),test_midTemp1)\n",
        "test_midTemp2 = np. interp(time, np.linspace(0,24,test_interp_temp_size),test_midTemp2)\n",
        "test_barkTemp = np. interp(time, np.linspace(0,24,test_interp_temp_size),test_barkTemp)\n",
        "\n",
        "print(\"measured temperature data read\")"
      ],
      "metadata": {
        "id": "dpeksFyOomlJ",
        "colab": {
          "base_uri": "https://localhost:8080/"
        },
        "outputId": "06a823df-3c68-4157-99d7-88ee6fe2ca50"
      },
      "execution_count": 20,
      "outputs": [
        {
          "output_type": "stream",
          "name": "stdout",
          "text": [
            "measured temperature data read\n"
          ]
        }
      ]
    },
    {
      "cell_type": "code",
      "source": [
        "### Read weather data\n",
        "\n",
        "colnames = ['datetime', 'wind_speed', 'wind_direction', 'humidity', 'air_temperature', 'air_pressure', 'solar_DNI']\n",
        "url2 = \"https://raw.githubusercontent.com/yajuna/linearRegression/master/Weather_Station_OCT21_to_OCT28_2022.xlsx\"\n",
        "dataWeather = pandas.read_excel(url2,names=colnames)\n",
        "# dataWeather = pandas.read_excel('Weather_Station_OCT21_to_OCT28_2022.xlsx', names = colnames)\n",
        "\n",
        "\n",
        "#### training\n",
        "# wind speed from Oct 21\n",
        "train_windSpeed = np.array(dataWeather.wind_speed[:train_weather_index])\n",
        "# humidity from Oct 21\n",
        "train_humidity = np.array(dataWeather.humidity[:train_weather_index])\n",
        "# air temperature from Oct 21\n",
        "train_airTemp = np.array(dataWeather.air_temperature[:train_weather_index])+ 273.15\n",
        "# air pressure from Oct 21\n",
        "train_airPressure = np.array(dataWeather.air_pressure[:train_weather_index])\n",
        "# solar radiation from Oct 21\n",
        "train_solar = np.array(dataWeather.solar_DNI[:train_weather_index])\n",
        "\n",
        "train_airTemp = np.interp(np.linspace(0,24,n_t), np.linspace(0,24,train_interp_weather_size),train_airTemp)\n",
        "train_windSpeed = np.interp(np.linspace(0,24,n_t), np.linspace(0,24,train_interp_weather_size),train_windSpeed)\n",
        "train_solar = np.interp(np.linspace(0,24,n_t), np.linspace(0,24,train_interp_weather_size),train_solar)\n",
        "\n",
        "#### testing\n",
        "# wind speed from Oct 21\n",
        "test_windSpeed = np.array(dataWeather.wind_speed[train_weather_index: test_weather_index])\n",
        "# humidity from Oct 21\n",
        "test_humidity = np.array(dataWeather.humidity[train_weather_index: test_weather_index])\n",
        "# air temperature from Oct 21\n",
        "test_airTemp = np.array(dataWeather.air_temperature[train_weather_index: test_weather_index])+ 273.15\n",
        "# air pressure from Oct 21\n",
        "test_airPressure = np.array(dataWeather.air_pressure[train_weather_index: test_weather_index])\n",
        "# solar radiation from Oct 21\n",
        "test_solar = np.array(dataWeather.solar_DNI[train_weather_index: test_weather_index])\n",
        "\n",
        "test_airTemp = np.interp(np.linspace(0,24,n_t), np.linspace(0,24,test_interp_weather_size),test_airTemp)\n",
        "test_windSpeed = np.interp(np.linspace(0,24,n_t), np.linspace(0,24,test_interp_weather_size),test_windSpeed)\n",
        "test_solar = np.interp(np.linspace(0,24,n_t), np.linspace(0,24,test_interp_weather_size),test_solar)\n",
        "\n",
        "\n",
        "print(\"weather data read\")"
      ],
      "metadata": {
        "colab": {
          "base_uri": "https://localhost:8080/"
        },
        "id": "NgfmBhFKVdz-",
        "outputId": "9bc560fd-70e0-4646-cc23-5ed6b8a54bcc"
      },
      "execution_count": 21,
      "outputs": [
        {
          "output_type": "stream",
          "name": "stdout",
          "text": [
            "weather data read\n"
          ]
        }
      ]
    },
    {
      "cell_type": "markdown",
      "source": [
        "# Prepare training and testing data\n"
      ],
      "metadata": {
        "id": "TZQCC7pBVTGi"
      }
    },
    {
      "cell_type": "code",
      "source": [
        "Y1train = train_midTemp1\n",
        "Y2train = train_midTemp2\n",
        "Xtrain = [train_coreTemp, train_barkTemp, train_airTemp, train_windSpeed, train_solar]\n",
        "X_train = np.array(Xtrain).T\n",
        "Y_train = Y1train\n",
        "\n",
        "Y1test = test_midTemp1\n",
        "Y2test = test_midTemp2\n",
        "Xtest = [test_coreTemp, test_barkTemp, test_airTemp, test_windSpeed, test_solar]\n",
        "X_test = np.array(Xtest).T\n",
        "Y_test = Y1test"
      ],
      "metadata": {
        "id": "SmeZmnSZ1cG7"
      },
      "execution_count": 22,
      "outputs": []
    },
    {
      "cell_type": "code",
      "source": [
        "model = LinearRegression()"
      ],
      "metadata": {
        "id": "QH4opaPccVL4"
      },
      "execution_count": 23,
      "outputs": []
    },
    {
      "cell_type": "code",
      "source": [
        "model.fit(X_train,Y_train)"
      ],
      "metadata": {
        "colab": {
          "base_uri": "https://localhost:8080/",
          "height": 75
        },
        "id": "DYFXN5ZWcjAh",
        "outputId": "eeaa3b9f-f368-457a-94f9-0ab8f1c4dab3"
      },
      "execution_count": 24,
      "outputs": [
        {
          "output_type": "execute_result",
          "data": {
            "text/plain": [
              "LinearRegression()"
            ],
            "text/html": [
              "<style>#sk-container-id-2 {color: black;background-color: white;}#sk-container-id-2 pre{padding: 0;}#sk-container-id-2 div.sk-toggleable {background-color: white;}#sk-container-id-2 label.sk-toggleable__label {cursor: pointer;display: block;width: 100%;margin-bottom: 0;padding: 0.3em;box-sizing: border-box;text-align: center;}#sk-container-id-2 label.sk-toggleable__label-arrow:before {content: \"▸\";float: left;margin-right: 0.25em;color: #696969;}#sk-container-id-2 label.sk-toggleable__label-arrow:hover:before {color: black;}#sk-container-id-2 div.sk-estimator:hover label.sk-toggleable__label-arrow:before {color: black;}#sk-container-id-2 div.sk-toggleable__content {max-height: 0;max-width: 0;overflow: hidden;text-align: left;background-color: #f0f8ff;}#sk-container-id-2 div.sk-toggleable__content pre {margin: 0.2em;color: black;border-radius: 0.25em;background-color: #f0f8ff;}#sk-container-id-2 input.sk-toggleable__control:checked~div.sk-toggleable__content {max-height: 200px;max-width: 100%;overflow: auto;}#sk-container-id-2 input.sk-toggleable__control:checked~label.sk-toggleable__label-arrow:before {content: \"▾\";}#sk-container-id-2 div.sk-estimator input.sk-toggleable__control:checked~label.sk-toggleable__label {background-color: #d4ebff;}#sk-container-id-2 div.sk-label input.sk-toggleable__control:checked~label.sk-toggleable__label {background-color: #d4ebff;}#sk-container-id-2 input.sk-hidden--visually {border: 0;clip: rect(1px 1px 1px 1px);clip: rect(1px, 1px, 1px, 1px);height: 1px;margin: -1px;overflow: hidden;padding: 0;position: absolute;width: 1px;}#sk-container-id-2 div.sk-estimator {font-family: monospace;background-color: #f0f8ff;border: 1px dotted black;border-radius: 0.25em;box-sizing: border-box;margin-bottom: 0.5em;}#sk-container-id-2 div.sk-estimator:hover {background-color: #d4ebff;}#sk-container-id-2 div.sk-parallel-item::after {content: \"\";width: 100%;border-bottom: 1px solid gray;flex-grow: 1;}#sk-container-id-2 div.sk-label:hover label.sk-toggleable__label {background-color: #d4ebff;}#sk-container-id-2 div.sk-serial::before {content: \"\";position: absolute;border-left: 1px solid gray;box-sizing: border-box;top: 0;bottom: 0;left: 50%;z-index: 0;}#sk-container-id-2 div.sk-serial {display: flex;flex-direction: column;align-items: center;background-color: white;padding-right: 0.2em;padding-left: 0.2em;position: relative;}#sk-container-id-2 div.sk-item {position: relative;z-index: 1;}#sk-container-id-2 div.sk-parallel {display: flex;align-items: stretch;justify-content: center;background-color: white;position: relative;}#sk-container-id-2 div.sk-item::before, #sk-container-id-2 div.sk-parallel-item::before {content: \"\";position: absolute;border-left: 1px solid gray;box-sizing: border-box;top: 0;bottom: 0;left: 50%;z-index: -1;}#sk-container-id-2 div.sk-parallel-item {display: flex;flex-direction: column;z-index: 1;position: relative;background-color: white;}#sk-container-id-2 div.sk-parallel-item:first-child::after {align-self: flex-end;width: 50%;}#sk-container-id-2 div.sk-parallel-item:last-child::after {align-self: flex-start;width: 50%;}#sk-container-id-2 div.sk-parallel-item:only-child::after {width: 0;}#sk-container-id-2 div.sk-dashed-wrapped {border: 1px dashed gray;margin: 0 0.4em 0.5em 0.4em;box-sizing: border-box;padding-bottom: 0.4em;background-color: white;}#sk-container-id-2 div.sk-label label {font-family: monospace;font-weight: bold;display: inline-block;line-height: 1.2em;}#sk-container-id-2 div.sk-label-container {text-align: center;}#sk-container-id-2 div.sk-container {/* jupyter's `normalize.less` sets `[hidden] { display: none; }` but bootstrap.min.css set `[hidden] { display: none !important; }` so we also need the `!important` here to be able to override the default hidden behavior on the sphinx rendered scikit-learn.org. See: https://github.com/scikit-learn/scikit-learn/issues/21755 */display: inline-block !important;position: relative;}#sk-container-id-2 div.sk-text-repr-fallback {display: none;}</style><div id=\"sk-container-id-2\" class=\"sk-top-container\"><div class=\"sk-text-repr-fallback\"><pre>LinearRegression()</pre><b>In a Jupyter environment, please rerun this cell to show the HTML representation or trust the notebook. <br />On GitHub, the HTML representation is unable to render, please try loading this page with nbviewer.org.</b></div><div class=\"sk-container\" hidden><div class=\"sk-item\"><div class=\"sk-estimator sk-toggleable\"><input class=\"sk-toggleable__control sk-hidden--visually\" id=\"sk-estimator-id-2\" type=\"checkbox\" checked><label for=\"sk-estimator-id-2\" class=\"sk-toggleable__label sk-toggleable__label-arrow\">LinearRegression</label><div class=\"sk-toggleable__content\"><pre>LinearRegression()</pre></div></div></div></div></div>"
            ]
          },
          "metadata": {},
          "execution_count": 24
        }
      ]
    },
    {
      "cell_type": "code",
      "source": [
        "predictions = model.predict(X_test)"
      ],
      "metadata": {
        "id": "vhecfVWec9T1"
      },
      "execution_count": 25,
      "outputs": []
    },
    {
      "cell_type": "code",
      "source": [
        "print(max(Y_test), min(Y_test), max(predictions), min(predictions))"
      ],
      "metadata": {
        "colab": {
          "base_uri": "https://localhost:8080/"
        },
        "id": "nkD9kLfueMky",
        "outputId": "37ea5c23-8007-45f7-ed98-b1e354d636e9"
      },
      "execution_count": 26,
      "outputs": [
        {
          "output_type": "stream",
          "name": "stdout",
          "text": [
            "299.46 297.71 299.6152207952709 297.290497396594\n"
          ]
        }
      ]
    },
    {
      "cell_type": "code",
      "source": [
        "print(\n",
        "  'mean_squared_error : ', mean_squared_error(Y_test, predictions))\n",
        "print(\n",
        "  'mean_absolute_error : ', mean_absolute_error(Y_test, predictions))"
      ],
      "metadata": {
        "colab": {
          "base_uri": "https://localhost:8080/"
        },
        "id": "K6-r7zFfeXWj",
        "outputId": "c9da7c48-dc87-43c5-f665-4bb8f85d3700"
      },
      "execution_count": 27,
      "outputs": [
        {
          "output_type": "stream",
          "name": "stdout",
          "text": [
            "mean_squared_error :  0.10976414013148406\n",
            "mean_absolute_error :  0.2691814919396762\n"
          ]
        }
      ]
    },
    {
      "cell_type": "code",
      "source": [
        "from datetime import datetime\n",
        "\n",
        "now = datetime.now()\n",
        "\n",
        "current_time = now.strftime(\"%H:%M:%S\")\n",
        "print(\"Current Time =\", current_time)"
      ],
      "metadata": {
        "colab": {
          "base_uri": "https://localhost:8080/"
        },
        "id": "OuvwaeJBsSf6",
        "outputId": "9726674e-a331-46ff-e900-62c2ea7c4145"
      },
      "execution_count": 31,
      "outputs": [
        {
          "output_type": "stream",
          "name": "stdout",
          "text": [
            "Current Time = 05:50:01\n"
          ]
        }
      ]
    },
    {
      "cell_type": "code",
      "source": [
        "# visualization\n",
        "\n",
        "fig, axs = plt.subplots(3, sharex=True, sharey=False)\n",
        "fig.suptitle('Measured temperature, predicted temperature, and error')\n",
        "axs[0].plot(time, Y_test, 'b-', label='testing values')\n",
        "axs[1].plot(time, predictions, 'b-', label='predicted values')\n",
        "axs[2].plot(time, (Y_test - predictions)/Y_test, 'b-', label='Relative error')\n",
        "\n",
        "plt.show()\n",
        "\n"
      ],
      "metadata": {
        "colab": {
          "base_uri": "https://localhost:8080/",
          "height": 478
        },
        "id": "FAfsMgzxeggZ",
        "outputId": "7f467406-8d28-45c0-c2d9-3d5ac9c6187d"
      },
      "execution_count": 28,
      "outputs": [
        {
          "output_type": "display_data",
          "data": {
            "text/plain": [
              "<Figure size 640x480 with 3 Axes>"
            ],
            "image/png": "[encoded data removed]"
          },
          "metadata": {}
        }
      ]
    }
  ]
}