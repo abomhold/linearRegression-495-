{
  "nbformat": 4,
  "nbformat_minor": 0,
  "metadata": {
    "colab": {
      "provenance": [],
      "authorship_tag": "ABX9TyOhGFTN7u4yeLdBjjRChXge",
      "include_colab_link": true
    },
    "kernelspec": {
      "name": "python3",
      "display_name": "Python 3"
    },
    "language_info": {
      "name": "python"
    }
  },
  "cells": [
    {
      "cell_type": "markdown",
      "metadata": {
        "id": "view-in-github",
        "colab_type": "text"
      },
      "source": [
        "<a href=\"https://colab.research.google.com/github/yajuna/linearRegression/blob/master/regression_tree.ipynb\" target=\"_parent\"><img src=\"https://colab.research.google.com/assets/colab-badge.svg\" alt=\"Open In Colab\"/></a>"
      ]
    },
    {
      "cell_type": "markdown",
      "source": [
        "# This notebook details the comparision between decision tree regression, and the KNN regression of the tree trunk temperature modeling problem.\n",
        "\n",
        "Assume $Y=f(\\mathbf{X})+\\epsilon$\n",
        "\n",
        "Here $Y:$ response\n",
        "\n",
        "(temperature in tree trunk)\n",
        "\n",
        "$\\mathbf{X}=[X_1, ..., X_n]:$ features, or predictors\n",
        "\n",
        "(weather condition)\n",
        "\n",
        "$\\epsilon:$ random error term (independent of $\\mathbf{X}$)"
      ],
      "metadata": {
        "id": "8h1RDf03E9UH"
      }
    },
    {
      "cell_type": "markdown",
      "source": [
        "## Data explanation\n",
        "We model the temperature of a tree trunk using various regression methods, based on weather conditions and measurements of the bark and core of the tree trunks.\n",
        "\n",
        "We use data collected onsite in Brazil, over a 7 day period, in August of 2022. These data include weather data, as well as temperature data consisting of core and bark temperatures, with two mid-trunk temperatures as validation for our model.\n",
        "\n",
        "We used a developed wireless sensor device that can measure temperature in 10 different position (direction and height) around the tree trunk and 3 different depths. Two spreadsheets were populated with 1 week long of data both from the tree and from our weather station in Brazil.\n",
        "\n",
        "The Tree Data Spreadsheet has the following notation:\n",
        "\n",
        "1. DXX@YY, where D = direction (N = North, S = South, E = East, W =West), XX = depth of the temperature sensor from the tree core, and YY = height of the temperature sensor. For example: S4.5cm@1m = sensor to the South 4.5 cm depth at 1 m height.\n",
        "2. Only the external sensor has a different notation, namely W\\_Ext\\_Temp\\@ 3.5m = to the West at 3.5 m height.\n",
        "\n",
        "The weather station (Modelo D140193 of Ammonit Measurement GmbH) is located near the tree. The weather station Spreadsheet has the following parameters:\n",
        "\n",
        "  1. ``Anemometer;win\\_speed;Avg (m/s)'': Average wind speed in m/s measured by a anemometer\n",
        "  2. ``Wind Vane TMR;wind\\_direction;Avg ($^{\\circ}$)'': Average wind direction in $^{\\circ}$ measured by a Wind Vane\n",
        "  3. ``Hygro/Thermo;humidity;Avg (\\%)'': Average  humidity in \\% measured by a Hygrometer\n",
        "  4. ``Hygro/Thermo;temperature;Avg ($^{\\circ}$C)'': Average temperature in $^{\\circ}$C measured by a Hygrometer\n",
        "  5. ``Barometer;air\\_pressure;Avg (hPa)'': Average air pressure in hPa   measured by a Barometer\n",
        "  6. ``DNI (Direct Normal Irradiance) Pyrheliometer;solar\\_DNI;Avg (W/m$^2$)'':  Average Direct Normal Irradiance in W/m$^2$ measured by a Pyrheliometer.\n",
        "\n",
        "The Direct Normal Irradiance (DNI) is a measurement of the Solar Irradiance. The Global Irradiance is the sum of the DNI and the Diffuse Irradiance. DNI is a fraction of the global solar irradiation, and is the most important parameter in a solar plant installation. So, we use of DNI to measure solar radiation in this model.\n",
        "\n",
        "Weather data is collected every 10 minutes, starting at 00:00; temperature data is collected every 3 minutes, starting at 00:01. It is reasonable to assume weather parameters and tree temperatures are continuous functions of time, so we linearly interpret the collected data to obtain measurements of the same length for our regression analysis.\n",
        "\n",
        "The radius of the mango tree is $r = 0.135$ m, and consider a 24 hour period. We use $n_t$ to denote time steps over time, and $n_x$ grid points in space, and these are parameters used in the linear interpolation of temperature and weather data."
      ],
      "metadata": {
        "id": "ggZI74MskGY-"
      }
    },
    {
      "cell_type": "code",
      "execution_count": null,
      "metadata": {
        "id": "WG6lnAVebZdv"
      },
      "outputs": [],
      "source": [
        "import numpy as np\n",
        "import pandas as pd\n",
        "from matplotlib import pyplot as plt\n",
        "%matplotlib inline\n",
        "import sys\n",
        "print(\"Python 3 version is\", sys.version)\n",
        "import matplotlib\n",
        "print(\"Matplotlib version is\", matplotlib.__version__)\n",
        "print(\"Numpy version is\", np.__version__)\n",
        "print(\"Pandas version is\", pd.__version__)"
      ]
    },
    {
      "cell_type": "code",
      "source": [
        "# from sklearn.model_selection import train_test_split\n",
        "from sklearn.neighbors import KNeighborsRegressor\n",
        "\n",
        "from sklearn.tree import DecisionTreeRegressor\n",
        "from sklearn.ensemble import RandomForestRegressor\n",
        "\n",
        "from sklearn.metrics import mean_squared_error, mean_absolute_error\n",
        "# from sklearn import preprocessing\n",
        "import sklearn\n",
        "print(\"scikit learn version is\", sklearn. __version__)"
      ],
      "metadata": {
        "id": "nNWcRFPeHBYj"
      },
      "execution_count": null,
      "outputs": []
    },
    {
      "cell_type": "code",
      "source": [
        "# define parameter\n",
        "n_t = 450\n",
        "radius = 0.135 # unit m\n",
        "time = np.linspace(0, 24, n_t, endpoint = False)"
      ],
      "metadata": {
        "id": "wy6LsHzVHHGj"
      },
      "execution_count": null,
      "outputs": []
    },
    {
      "cell_type": "code",
      "source": [
        "# # for binder's jupyterlab\n",
        "# !pip3 install openpyxl"
      ],
      "metadata": {
        "id": "3LnKJfit3ccO"
      },
      "execution_count": null,
      "outputs": []
    },
    {
      "cell_type": "code",
      "source": [
        "colnames = ['temp_datetime', 's45_1', 'e9_1', 'n135_1','e45_2', 'n9_2', 'w135_2', 'n45_3', 'w9_3','s135_3', 'w_ext_35']\n",
        "url1 = \"https://raw.githubusercontent.com/yajuna/linearRegression/master/Tree_Temp_Values_AUG21_to_AUG28_2022.xlsx\"\n",
        "dataTemp = pd.read_excel(url1,names=colnames)\n",
        "dataTemp['temp_datetime'] = pd.to_datetime(dataTemp['temp_datetime'])\n",
        "dataTemp = dataTemp.set_index('temp_datetime')"
      ],
      "metadata": {
        "id": "NNXbPHoh8hA-"
      },
      "execution_count": null,
      "outputs": []
    },
    {
      "cell_type": "code",
      "source": [
        "train_range = dataTemp.loc['2022-08-21':'2022-08-21 23:59:59']\n",
        "\n",
        "test_range = dataTemp.loc['2022-08-22':'2022-08-22 23:59:59']\n",
        "\n",
        "train_temp_size = len(train_range.index)\n",
        "# linear interpolate the measured temperature\n",
        "train_coreTemp = np. interp(time, np.linspace(0,24,train_temp_size),train_range.s135_3)\n",
        "train_midTemp1 = np. interp(time, np.linspace(0,24,train_temp_size),train_range.w9_3)\n",
        "train_midTemp2 = np. interp(time, np.linspace(0,24,train_temp_size),train_range.n45_3)\n",
        "train_barkTemp = np. interp(time, np.linspace(0,24,train_temp_size),train_range.w_ext_35)\n",
        "\n",
        "test_temp_size = len(test_range.index)\n",
        "test_coreTemp = np. interp(time, np.linspace(0,24,test_temp_size),test_range.s135_3)\n",
        "test_midTemp1 = np. interp(time, np.linspace(0,24,test_temp_size),test_range.w9_3)\n",
        "test_midTemp2 = np. interp(time, np.linspace(0,24,test_temp_size),test_range.n45_3)\n",
        "test_barkTemp = np. interp(time, np.linspace(0,24,test_temp_size),test_range.w_ext_35)\n",
        "\n",
        "print(\"measured temperature data read\")\n",
        "print(train_range)\n",
        "\n",
        "print(test_range)"
      ],
      "metadata": {
        "id": "8-YUI6lgHV8a"
      },
      "execution_count": null,
      "outputs": []
    },
    {
      "cell_type": "code",
      "source": [
        "colnames = ['weather_datetime', 'wind_speed', 'wind_direction', 'humidity', 'air_temperature', 'air_pressure', 'solar_DNI']\n",
        "url2 = \"https://raw.githubusercontent.com/yajuna/linearRegression/master/Weather_Station_AUG21_to_AUG28_2022.xlsx\"\n",
        "dataWeather = pd.read_excel(url2,names=colnames)\n",
        "dataWeather['weather_datetime'] = pd.to_datetime(dataWeather['weather_datetime'])\n",
        "dataWeather = dataWeather.set_index('weather_datetime')"
      ],
      "metadata": {
        "id": "_9R9k8fcJ2Eg"
      },
      "execution_count": null,
      "outputs": []
    },
    {
      "cell_type": "code",
      "source": [
        "train_weather = dataWeather.loc['2022-08-21':'2022-08-21 23:59:59']\n",
        "\n",
        "test_weather = dataWeather.loc['2022-08-22':'2022-08-22 23:59:59']\n",
        "\n",
        "train_weather_size = len(train_weather.index)\n",
        "\n",
        "train_airTemp = np.interp(time, np.linspace(0,24,train_weather_size),train_weather.air_temperature)\n",
        "train_windSpeed = np.interp(time, np.linspace(0,24,train_weather_size),train_weather.wind_speed)\n",
        "train_solar = np.interp(time, np.linspace(0,24,train_weather_size),train_weather.solar_DNI)\n",
        "train_humidity = np.interp(time, np.linspace(0,24,train_weather_size),train_weather.humidity)\n",
        "train_airPressure = np.interp(time, np.linspace(0,24,train_weather_size),train_weather.air_pressure)\n",
        "\n",
        "test_weather_size = len(test_weather.index)\n",
        "\n",
        "test_airTemp = np.interp(time, np.linspace(0,24,test_weather_size),test_weather.air_temperature)\n",
        "test_windSpeed = np.interp(time, np.linspace(0,24,test_weather_size),test_weather.wind_speed)\n",
        "test_solar = np.interp(time, np.linspace(0,24,test_weather_size),test_weather.solar_DNI)\n",
        "test_humidity = np.interp(time, np.linspace(0,24,test_weather_size),test_weather.humidity)\n",
        "test_airPressure = np.interp(time, np.linspace(0,24,test_weather_size),test_weather.air_pressure)\n",
        "\n",
        "print(train_weather)\n",
        "\n",
        "print(test_weather)"
      ],
      "metadata": {
        "id": "Ab7uZ3wHFqiX"
      },
      "execution_count": null,
      "outputs": []
    },
    {
      "cell_type": "markdown",
      "source": [
        "## Prepare training and testing data\n",
        "\n",
        "The training data is collected on August 21, and the testing data is collected on August 22, as well as August 26"
      ],
      "metadata": {
        "id": "0oPsO4hkKHkJ"
      }
    },
    {
      "cell_type": "code",
      "source": [
        "#include depth as training variable\n",
        "# n = 0 for 9cm; n = 1 for 4.5cm\n",
        "n = 1\n",
        "depth_list = [0.09/radius, 0.045/radius]\n",
        "\n",
        "# training Y temp\n",
        "Ytrain_list = [train_midTemp1, train_midTemp2]\n",
        "\n",
        "Ytest_list = [test_midTemp1, test_midTemp2]\n",
        "\n",
        "# depth for training is depth1 or depth2\n",
        "depth = np.ones(train_coreTemp.shape) * depth_list[n]\n",
        "\n",
        "# Training data in x; training data in y\n",
        "Xtrain = [1./train_humidity, train_airTemp, train_windSpeed, train_solar, depth, train_coreTemp, train_barkTemp]\n",
        "\n",
        "X_train = np.array(Xtrain).T\n",
        "Y_train = Ytrain_list[n]\n",
        "\n",
        "# testing data in x, testing data in y.\n",
        "ic_test = np.ones(test_coreTemp.shape) * Ytest_list[n][0]\n",
        "Xtest = [1./test_humidity, test_airTemp, test_windSpeed, test_solar, depth, test_coreTemp, test_barkTemp]\n",
        "X_test = np.array(Xtest).T\n",
        "Y_test = Ytest_list[n]"
      ],
      "metadata": {
        "id": "RNatEcDFKGQF"
      },
      "execution_count": null,
      "outputs": []
    },
    {
      "cell_type": "markdown",
      "source": [
        "## In the following, we look at regression with the K nearest neighbors (KNN) as well as Decision trees.\n",
        "\n",
        "Both methods are implemented in Python, with the `scikit learn` library."
      ],
      "metadata": {
        "id": "-Q-svsJYjix4"
      }
    },
    {
      "cell_type": "markdown",
      "source": [
        "## The following two cells are for decision tree regression"
      ],
      "metadata": {
        "id": "9YtCX_syPWTb"
      }
    },
    {
      "cell_type": "code",
      "source": [
        "# Fit regression model with decision tree\n",
        "dt_regressor = DecisionTreeRegressor(max_depth=4)\n",
        "dt_regressor.fit(X_train, Y_train)"
      ],
      "metadata": {
        "id": "Ip0S-_8MjuQt"
      },
      "execution_count": null,
      "outputs": []
    },
    {
      "cell_type": "code",
      "source": [
        "# Fit regression model with random forest\n",
        "rf_regressor = RandomForestRegressor(n_estimators = 5, random_state = 0)\n",
        "rf_regressor.fit(X_train, Y_train)"
      ],
      "metadata": {
        "id": "Zl_--ZoG1v_o"
      },
      "execution_count": null,
      "outputs": []
    },
    {
      "cell_type": "code",
      "source": [
        "# prediction with the above regression models\n",
        "\n",
        "y_1 = dt_regressor.predict(X_test)\n",
        "y_2 = rf_regressor.predict(X_test)"
      ],
      "metadata": {
        "id": "L_fcr6vym9QY"
      },
      "execution_count": null,
      "outputs": []
    },
    {
      "cell_type": "code",
      "source": [
        "# visualization\n",
        "print (\"Absolute error is\", np.max(np.abs(Y_test - y_1)), \", Relative error is\", np.max(np.abs((Y_test - y_1)/Y_test)))\n",
        "\n",
        "\n",
        "fig0, axs = plt.subplots(3, sharex=True, sharey=False)\n",
        "fig0.suptitle('Errors with a tree')\n",
        "axs[0].plot(time, Y_test, 'b-', label='Measured values (K)')\n",
        "axs[0].plot(time, y_1, 'r-', label='Predicted values (K)')\n",
        "axs[1].plot(time, Y_test - y_1, 'b-', label='Absolute error (K)')\n",
        "axs[2].plot(time, (Y_test - y_1)/Y_test, 'b-', label='Relative error (%)')\n",
        "axs[0].legend(loc='lower left', fontsize = 'x-small')\n",
        "axs[1].legend(loc='lower left', fontsize = 'x-small')\n",
        "axs[2].legend(loc='lower left', fontsize = 'x-small')\n",
        "plt.xlabel('time (hrs)', fontsize=10)\n",
        "# fig0.savefig(\"shallow_decisionTree.eps\")\n",
        "plt.show()"
      ],
      "metadata": {
        "id": "9iLB-l0QoQ2t"
      },
      "execution_count": null,
      "outputs": []
    },
    {
      "cell_type": "code",
      "source": [
        "# visualization\n",
        "print (\"Absolute error is\", np.max(np.abs(Y_test - y_2)), \", Relative error is\", np.max(np.abs((Y_test - y_2)/Y_test)))\n",
        "\n",
        "\n",
        "fig, axs = plt.subplots(3, sharex=True, sharey=False)\n",
        "fig.suptitle('Errors with a forest')\n",
        "axs[0].plot(time, Y_test, 'b-', label='Measured values (K)')\n",
        "\n",
        "axs[0].plot(time, y_2, 'r-', label='Predicted values (K)')\n",
        "axs[1].plot(time, Y_test - y_2, 'b-', label='Absolute error (K)')\n",
        "axs[2].plot(time, (Y_test - y_2)/Y_test, 'b-', label='Relative error (%)')\n",
        "axs[0].legend(loc='lower left', fontsize = 'x-small')\n",
        "axs[1].legend(loc='lower left', fontsize = 'x-small')\n",
        "axs[2].legend(loc='lower left', fontsize = 'x-small')\n",
        "plt.xlabel('time (hrs)', fontsize=10)\n",
        "# fig.savefig(\"deep_decisionTree.eps\")\n",
        "plt.show()"
      ],
      "metadata": {
        "id": "v-Jxz1n-oQoF"
      },
      "execution_count": null,
      "outputs": []
    },
    {
      "cell_type": "markdown",
      "source": [
        "## In the following, we look at KNN regression model\n",
        "We experiment with different values of $K$ and observe bias, as well as vriance.\n"
      ],
      "metadata": {
        "id": "u3qDXkuhpIrp"
      }
    },
    {
      "cell_type": "code",
      "source": [
        "n_neighbors = 4\n",
        "# weights = \"uniform\", \"distance\"\n",
        "\n",
        "knn = KNeighborsRegressor(n_neighbors, weights=\"distance\")\n",
        "knn.fit(X_train, Y_train)\n",
        "Y_pred = knn.predict(X_test)"
      ],
      "metadata": {
        "id": "GMLF1gBnpNZ2"
      },
      "execution_count": null,
      "outputs": []
    },
    {
      "cell_type": "code",
      "source": [
        "# visualization\n",
        "print (\"Absolute error is\", np.max(np.abs(Y_test - Y_pred)), \", Relative error is\", np.max(np.abs((Y_test - Y_pred)/Y_test)))\n",
        "\n",
        "fig1, axs = plt.subplots(3, sharex=True, sharey=False)\n",
        "fig1.suptitle('Measured temperature, predicted temperature, absolute, and relative error with KNN')\n",
        "axs[0].plot(time, Y_test, 'b-', label='Measured values (K)')\n",
        "axs[0].plot(time, Y_pred, 'r-', label='Predicted values (K)')\n",
        "axs[1].plot(time, Y_test - Y_pred, 'b-', label='Absolute error (K)')\n",
        "axs[2].plot(time, (Y_test - Y_pred)/Y_test, 'b-', label='Relative error (%)')\n",
        "\n",
        "axs[0].legend(loc='lower left', fontsize = 'x-small')\n",
        "axs[1].legend(loc='lower left', fontsize = 'x-small')\n",
        "axs[2].legend(loc='lower left', fontsize = 'x-small')\n",
        "plt.xlabel('time (hrs)', fontsize=10)\n",
        "# fig.savefig(\"deep_decisionTree.eps\")\n",
        "plt.show()"
      ],
      "metadata": {
        "id": "mDV-kN-YO7Y3"
      },
      "execution_count": null,
      "outputs": []
    }
  ]
}